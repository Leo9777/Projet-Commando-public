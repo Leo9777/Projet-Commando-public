{
 "cells": [
  {
   "cell_type": "code",
   "execution_count": 3,
   "id": "cc1641eb",
   "metadata": {},
   "outputs": [],
   "source": [
    "import numpy as np\n",
    "import matplotlib.pyplot as plt\n",
    "import matplotlib.colors\n",
    "\n",
    "\n",
    "def wavelength_to_rgb(wavelength, gamma=0.8):\n",
    "    ''' taken from http://www.noah.org/wiki/Wavelength_to_RGB_in_Python\n",
    "    This converts a given wavelength of light to an \n",
    "    approximate RGB color value. The wavelength must be given\n",
    "    in nanometers in the range from 380 nm through 750 nm\n",
    "    (789 THz through 400 THz).\n",
    "\n",
    "    Based on code by Dan Bruton\n",
    "    http://www.physics.sfasu.edu/astro/color/spectra.html\n",
    "    Additionally alpha value set to 0.5 outside range\n",
    "    '''\n",
    "    wavelength = float(wavelength)\n",
    "    if wavelength >= 380 and wavelength <= 750:\n",
    "        A = 1.\n",
    "    else:\n",
    "        A=0.5\n",
    "    if wavelength < 380:\n",
    "        wavelength = 380.\n",
    "    if wavelength >750:\n",
    "        wavelength = 750.\n",
    "    if wavelength >= 380 and wavelength <= 440:\n",
    "        attenuation = 0.3 + 0.7 * (wavelength - 380) / (440 - 380)\n",
    "        R = ((-(wavelength - 440) / (440 - 380)) * attenuation) ** gamma\n",
    "        G = 0.0\n",
    "        B = (1.0 * attenuation) ** gamma\n",
    "    elif wavelength >= 440 and wavelength <= 490:\n",
    "        R = 0.0\n",
    "        G = ((wavelength - 440) / (490 - 440)) ** gamma\n",
    "        B = 1.0\n",
    "    elif wavelength >= 490 and wavelength <= 510:\n",
    "        R = 0.0\n",
    "        G = 1.0\n",
    "        B = (-(wavelength - 510) / (510 - 490)) ** gamma\n",
    "    elif wavelength >= 510 and wavelength <= 580:\n",
    "        R = ((wavelength - 510) / (580 - 510)) ** gamma\n",
    "        G = 1.0\n",
    "        B = 0.0\n",
    "    elif wavelength >= 580 and wavelength <= 645:\n",
    "        R = 1.0\n",
    "        G = (-(wavelength - 645) / (645 - 580)) ** gamma\n",
    "        B = 0.0\n",
    "    elif wavelength >= 645 and wavelength <= 750:\n",
    "        attenuation = 0.3 + 0.7 * (750 - wavelength) / (750 - 645)\n",
    "        R = (1.0 * attenuation) ** gamma\n",
    "        G = 0.0\n",
    "        B = 0.0\n",
    "    else:\n",
    "        R = 0.0\n",
    "        G = 0.0\n",
    "        B = 0.0\n",
    "    return (R,G,B,A)\n"
   ]
  },
  {
   "cell_type": "code",
   "execution_count": 4,
   "id": "1cb7d797",
   "metadata": {},
   "outputs": [
    {
     "data": {
      "text/plain": [
       "(0.4372461308176645, 0.0, 0.6047821747376145, 1.0)"
      ]
     },
     "execution_count": 4,
     "metadata": {},
     "output_type": "execute_result"
    }
   ],
   "source": [
    "wavelength_to_rgb(400, gamma=0.8)"
   ]
  },
  {
   "cell_type": "code",
   "execution_count": 5,
   "id": "ad99d3d6",
   "metadata": {},
   "outputs": [
    {
     "data": {
      "image/png": "[encoded data removed]",
      "text/plain": [
       "<Figure size 432x288 with 2 Axes>"
      ]
     },
     "metadata": {
      "needs_background": "light"
     },
     "output_type": "display_data"
    }
   ],
   "source": [
    "def make_color_map ( wavelength ):\n",
    "    \"\"\" Return a LinearSegmentedColormap going from transparent to full intensity\n",
    "    for a wavelength given in nanometer .\n",
    "    wavelength : float (in nm)\n",
    "    \"\"\"\n",
    "    R, G, B, A = wavelength_to_rgb ( wavelength )\n",
    "    colors = [(R,G,B,c) for c in np. linspace (0 ,1 ,100)]\n",
    "    return matplotlib.colors.LinearSegmentedColormap . from_list (\"mycmap \", colors )#change mycimap\n",
    "\n",
    "y, x = np. mgrid [:200 ,:200]\n",
    "z_red = np. sin (2* np.pi *(x -100)/60)**2\n",
    "wv = 640# nm\n",
    "red_colormap = make_color_map (wv)\n",
    "plt. imshow (z_red , cmap = red_colormap, alpha=0.5 )\n",
    "\n",
    "wv2 = 500# nm\n",
    "violet_colormap = make_color_map (wv2)\n",
    "plt. imshow (z_red , cmap = violet_colormap, alpha=0.5 )\n",
    "\n",
    "plt. colorbar ()\n",
    "plt. gca (). set_facecolor (\"0\") # add a black background\n",
    "plt. show ()"
   ]
  },
  {
   "cell_type": "code",
   "execution_count": 131,
   "id": "18ef8f60",
   "metadata": {
    "scrolled": true
   },
   "outputs": [
    {
     "data": {
      "image/png": "[encoded data removed]",
      "text/plain": [
       "<Figure size 432x288 with 1 Axes>"
      ]
     },
     "metadata": {
      "needs_background": "light"
     },
     "output_type": "display_data"
    },
    {
     "data": {
      "image/png": "[encoded data removed]",
      "text/plain": [
       "<Figure size 432x288 with 2 Axes>"
      ]
     },
     "metadata": {
      "needs_background": "light"
     },
     "output_type": "display_data"
    }
   ],
   "source": [
    "def I2(I0,d,a,X,lamb,f):\n",
    "    c=(lamb*f)**(-1)\n",
    "    y=[]\n",
    "    In=[]\n",
    "    for e in X:\n",
    "        for x in e:\n",
    "            \n",
    "            if x!=0:\n",
    "                y.append(I0*(np.sin(2*np.pi*N*x*c*d/2)/(N*np.sin(2*np.pi*x*c*d/2)))**2*(np.sinc(2*np.pi*x*c*a/2))**2)\n",
    "            else:\n",
    "                y.append(y[len(y)-1])\n",
    "        In.append(y)\n",
    "        y=[]\n",
    "        \n",
    "    return In\n",
    "\n",
    "def I(I0,d,a,X,lamb,f):\n",
    "    c=(lamb*f)**(-1)\n",
    "    y=[]\n",
    "    for x in X:\n",
    "        if x!=0:\n",
    "            y.append(I0*(np.sin(2*np.pi*N*x*c*d/2)/(N*np.sin(2*np.pi*x*c*d/2)))**2*(np.sinc(2*np.pi*x*c*a/2))**2)\n",
    "        else:\n",
    "            y.append(I0)\n",
    "    return y\n",
    "\n",
    "#Paramètres\n",
    "I0=1 \n",
    "d=50*10**(-6) #Distance entre les fentes\n",
    "a=10*10**(-6) #Taille des fentes\n",
    "lamb=600*10**(-9) #longueur d'onde\n",
    "f=1 #focale\n",
    "N=5 #Nombres de fentes\n",
    "                   \n",
    "# Affichage du graphique de l'intensité ne fonction de la position sur l'écran                \n",
    "X=np.linspace(-10*10**(-2),10*10**(-2),1000)\n",
    "Y=np.linspace(-10*10**(-2),10*10**(-2),1000)\n",
    "I_graph=I(I0,d,a,X,lamb,f)\n",
    "plt.figure()\n",
    "plt.plot(X,I_graph)\n",
    "plt.show()\n",
    "\n",
    "y,x = np. mgrid[-50:50 ,-50:50]\n",
    "I_mesh=I2(I0,d,a,x,lamb,f)\n",
    "\n",
    "\n",
    "\n",
    "#Affichage de la figure d'interférence\n",
    "wv = lamb*10**9# nm\n",
    "colormap = make_color_map (wv)\n",
    "plt. imshow (I_mesh, cmap = colormap, alpha=1 )\n",
    "\n",
    "\n",
    "plt. colorbar ()\n",
    "plt. gca (). set_facecolor (\"0\") # add a black background\n",
    "plt. show ()"
   ]
  },
  {
   "cell_type": "code",
   "execution_count": 124,
   "id": "8658aa94",
   "metadata": {},
   "outputs": [
    {
     "data": {
      "image/png": "[encoded data removed]",
      "text/plain": [
       "<Figure size 432x288 with 2 Axes>"
      ]
     },
     "metadata": {
      "needs_background": "light"
     },
     "output_type": "display_data"
    }
   ],
   "source": [
    "I0=1 \n",
    "d=50*10**(-6) #Distance entre les fentes\n",
    "a=10*10**(-6)\n",
    "lamb=640*10**(-9)\n",
    "f=1\n",
    "N=5\n",
    "\n",
    "y, x = np. mgrid[-50:50 ,-50:50]\n",
    "mesh = I0*((np.sin(np.pi*d*x/(lamb*f))*np.sin(np.pi*d*y/(lamb*f)))/((np.pi*d*y/(lamb*f))*np.pi*d*x/(lamb*f)))\n",
    "wv = 640# nm\n",
    "colormap = make_color_map (wv)\n",
    "plt. imshow (mesh, cmap = colormap, alpha=1 )\n",
    "plt. colorbar ()\n",
    "plt. gca (). set_facecolor (\"0\") # add a black background\n",
    "plt. show ()"
   ]
  },
  {
   "cell_type": "code",
   "execution_count": null,
   "id": "abd49614",
   "metadata": {},
   "outputs": [],
   "source": [
    "#esssais de fonctions\n",
    "#z_red = (I0/2)*(1+np.cos((2*d*np.pi*x)/(lamb*f))*np.cos((2*d*np.pi*y)/(lamb*f)))\n",
    "#z_red = I0*((np.sin(np.pi*d*x/(lamb*f))*np.sin(np.pi*d*y/(lamb*f)))/((np.pi*d*y/(lamb*f))*np.pi*d*x/(lamb*f)))\n",
    "#z_red = I0*(np.sinc((np.pi*d*x)/(lamb*f))*np.sinc((np.pi*d*y)/(lamb*f)))\n",
    "#z = (I0/2)*(1+np.cos((2*d*np.pi*y)/(lamb*f)))\n",
    "#z_red=I0*(np.sin(2*np.pi*N*x*c*d/2)/(N*np.sin(2*np.pi*x*c*d/2)))**2*(np.sinc(2*np.pi*x*c*a/2))**2"
   ]
  }
 ],
 "metadata": {
  "kernelspec": {
   "display_name": "Python 3",
   "language": "python",
   "name": "python3"
  },
  "language_info": {
   "codemirror_mode": {
    "name": "ipython",
    "version": 3
   },
   "file_extension": ".py",
   "mimetype": "text/x-python",
   "name": "python",
   "nbconvert_exporter": "python",
   "pygments_lexer": "ipython3",
   "version": "3.8.8"
  }
 },
 "nbformat": 4,
 "nbformat_minor": 5
}
